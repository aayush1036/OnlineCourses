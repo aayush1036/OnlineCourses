{
 "cells": [
  {
   "cell_type": "code",
   "execution_count": 1,
   "source": [
    "# Reading Data \r\n",
    "import pandas as pd \r\n",
    "from sklearn.datasets import load_iris\r\n",
    "\r\n",
    "# Preprocessing \r\n",
    "from sklearn.model_selection import train_test_split\r\n",
    "\r\n",
    "# Models \r\n",
    "from sklearn.ensemble import RandomForestClassifier, BaggingClassifier, RandomForestRegressor\r\n",
    "\r\n",
    "# Model evaluation \r\n",
    "from sklearn.metrics import classification_report, confusion_matrix\r\n",
    "\r\n",
    "# Visualization \r\n",
    "import matplotlib.pyplot as plt \r\n",
    "import seaborn as sns \r\n",
    "\r\n",
    "# Display\r\n",
    "from IPython.display import display"
   ],
   "outputs": [],
   "metadata": {}
  },
  {
   "cell_type": "markdown",
   "source": [
    "# Reading the data "
   ],
   "metadata": {}
  },
  {
   "cell_type": "code",
   "execution_count": 2,
   "source": [
    "data = pd.read_csv('../data/kc_house_data.csv')"
   ],
   "outputs": [],
   "metadata": {}
  },
  {
   "cell_type": "code",
   "execution_count": 3,
   "source": [
    "features = ['bedrooms','bathrooms','sqft_living','sqft_lot','floors']\r\n",
    "X = data[features]\r\n",
    "y = data['price']"
   ],
   "outputs": [],
   "metadata": {}
  },
  {
   "cell_type": "markdown",
   "source": [
    "# Train test split"
   ],
   "metadata": {}
  },
  {
   "cell_type": "code",
   "execution_count": 4,
   "source": [
    "X_train, X_test, y_train, y_test = train_test_split(X,y,test_size=0.2, random_state=42)"
   ],
   "outputs": [],
   "metadata": {}
  },
  {
   "cell_type": "markdown",
   "source": [
    "# Regression "
   ],
   "metadata": {}
  },
  {
   "cell_type": "code",
   "execution_count": 5,
   "source": [
    "# creating and training the random forest regressor \r\n",
    "random_forest_reg = RandomForestRegressor(n_estimators=100, random_state=42)\r\n",
    "random_forest_reg.fit(X_train, y_train)"
   ],
   "outputs": [
    {
     "output_type": "execute_result",
     "data": {
      "text/plain": [
       "RandomForestRegressor(random_state=42)"
      ]
     },
     "metadata": {},
     "execution_count": 5
    }
   ],
   "metadata": {}
  },
  {
   "cell_type": "code",
   "execution_count": 6,
   "source": [
    "train_pred_random_forest_reg = random_forest_reg.predict(X_train)\r\n",
    "test_pred_random_forest_reg = random_forest_reg.predict(X_test)\r\n",
    "\r\n",
    "print(f'The R squared score for train set of random forest regressor is {random_forest_reg.score(X_train, y_train)}')\r\n",
    "print(f'The R squared score for test set of random forest regressor is {random_forest_reg.score(X_test, y_test)}')"
   ],
   "outputs": [
    {
     "output_type": "stream",
     "name": "stdout",
     "text": [
      "The R squared score for train set of random forest regressor is 0.9395359644802134\n",
      "The R squared score for test set of random forest regressor is 0.5027403276382976\n"
     ]
    }
   ],
   "metadata": {}
  },
  {
   "cell_type": "markdown",
   "source": [
    "# Classification "
   ],
   "metadata": {}
  },
  {
   "cell_type": "code",
   "execution_count": 7,
   "source": [
    "iris = load_iris()\r\n",
    "X = iris.data\r\n",
    "y = iris.target"
   ],
   "outputs": [],
   "metadata": {}
  },
  {
   "cell_type": "code",
   "execution_count": 8,
   "source": [
    "X_train, X_test, y_train, y_test = train_test_split(X,y,random_state=42, test_size=0.2)"
   ],
   "outputs": [],
   "metadata": {}
  },
  {
   "cell_type": "markdown",
   "source": [
    "# Random Forest Classifier "
   ],
   "metadata": {}
  },
  {
   "cell_type": "code",
   "execution_count": 9,
   "source": [
    "# Creating and training the random forest classifier \r\n",
    "clf_random_forest = RandomForestClassifier(n_estimators=100, random_state=42)\r\n",
    "clf_random_forest.fit(X_train, y_train)\r\n",
    "\r\n",
    "# Creating and training a bagging tree classifier \r\n",
    "clf_bagging_tree = BaggingClassifier(n_estimators=100, random_state=42)\r\n",
    "clf_bagging_tree.fit(X_train, y_train)"
   ],
   "outputs": [
    {
     "output_type": "execute_result",
     "data": {
      "text/plain": [
       "BaggingClassifier(n_estimators=100, random_state=42)"
      ]
     },
     "metadata": {},
     "execution_count": 9
    }
   ],
   "metadata": {}
  },
  {
   "cell_type": "code",
   "execution_count": 10,
   "source": [
    "pred_train_rf = clf_random_forest.predict(X_train)\r\n",
    "pred_test_rf = clf_random_forest.predict(X_test)\r\n",
    "\r\n",
    "pred_train_btc = clf_bagging_tree.predict(X_train)\r\n",
    "pred_test_btc =  clf_bagging_tree.predict(X_test)"
   ],
   "outputs": [],
   "metadata": {}
  },
  {
   "cell_type": "code",
   "execution_count": 11,
   "source": [
    "print('Classification report of Random Forest Classifier on train set')\r\n",
    "print(classification_report(y_true=y_train, y_pred=pred_train_rf))\r\n",
    "\r\n",
    "print('Classification report of Bagging Tree Classifier on train set')\r\n",
    "print(classification_report(y_true=y_train, y_pred=pred_train_btc))\r\n",
    "\r\n",
    "\r\n",
    "print('Classification report of Random Forest Classifier on test set')\r\n",
    "print(classification_report(y_true=y_test, y_pred=pred_test_rf))\r\n",
    "\r\n",
    "print('Classification report of Bagging Tree Classifier on test set')\r\n",
    "print(classification_report(y_true=y_test, y_pred=pred_test_btc))"
   ],
   "outputs": [
    {
     "output_type": "stream",
     "name": "stdout",
     "text": [
      "Classification report of Random Forest Classifier on train set\n",
      "              precision    recall  f1-score   support\n",
      "\n",
      "           0       1.00      1.00      1.00        40\n",
      "           1       1.00      1.00      1.00        41\n",
      "           2       1.00      1.00      1.00        39\n",
      "\n",
      "    accuracy                           1.00       120\n",
      "   macro avg       1.00      1.00      1.00       120\n",
      "weighted avg       1.00      1.00      1.00       120\n",
      "\n",
      "Classification report of Bagging Tree Classifier on train set\n",
      "              precision    recall  f1-score   support\n",
      "\n",
      "           0       1.00      1.00      1.00        40\n",
      "           1       1.00      1.00      1.00        41\n",
      "           2       1.00      1.00      1.00        39\n",
      "\n",
      "    accuracy                           1.00       120\n",
      "   macro avg       1.00      1.00      1.00       120\n",
      "weighted avg       1.00      1.00      1.00       120\n",
      "\n",
      "Classification report of Random Forest Classifier on test set\n",
      "              precision    recall  f1-score   support\n",
      "\n",
      "           0       1.00      1.00      1.00        10\n",
      "           1       1.00      1.00      1.00         9\n",
      "           2       1.00      1.00      1.00        11\n",
      "\n",
      "    accuracy                           1.00        30\n",
      "   macro avg       1.00      1.00      1.00        30\n",
      "weighted avg       1.00      1.00      1.00        30\n",
      "\n",
      "Classification report of Bagging Tree Classifier on test set\n",
      "              precision    recall  f1-score   support\n",
      "\n",
      "           0       1.00      1.00      1.00        10\n",
      "           1       1.00      1.00      1.00         9\n",
      "           2       1.00      1.00      1.00        11\n",
      "\n",
      "    accuracy                           1.00        30\n",
      "   macro avg       1.00      1.00      1.00        30\n",
      "weighted avg       1.00      1.00      1.00        30\n",
      "\n"
     ]
    }
   ],
   "metadata": {}
  },
  {
   "cell_type": "code",
   "execution_count": 12,
   "source": [
    "fig, ax = plt.subplots(figsize=(18,8),nrows=1, ncols=2)\r\n",
    "sns.heatmap(confusion_matrix(y_true=y_train, y_pred=pred_train_rf),ax=ax[0],annot=True, cmap='Blues',fmt='g')\r\n",
    "ax[0].set_title('CONFUSION MATRIX FOR RANDOM FOREST CLASSIFIER',fontsize=20, fontweight='bold')\r\n",
    "sns.heatmap(confusion_matrix(y_true=y_train, y_pred=pred_train_btc),ax=ax[1],cmap='Blues',annot=True,fmt='g')\r\n",
    "ax[1].set_title('CONFUSION MATRIX FOR BAGGING TREE CLASSIFIER',fontsize=20, fontweight='bold')\r\n",
    "plt.tight_layout()\r\n",
    "plt.show()"
   ],
   "outputs": [
    {
     "output_type": "display_data",
     "data": {
      "text/plain": [
       "<Figure size 1296x576 with 4 Axes>"
      ],
      "image/png": "[encoded data removed]"
     },
     "metadata": {
      "needs_background": "light"
     }
    }
   ],
   "metadata": {}
  },
  {
   "cell_type": "code",
   "execution_count": 13,
   "source": [
    "# Feature importances for Random Forest Classifier \r\n",
    "print('Feature Importances for Random Forest Classifier')\r\n",
    "importances_rfc = pd.DataFrame({'Features':iris.feature_names, 'Importances':clf_random_forest.feature_importances_})\r\n",
    "importances_rfc.sort_values(ascending=False,by='Importances', inplace=True)\r\n",
    "display(importances_rfc)"
   ],
   "outputs": [
    {
     "output_type": "stream",
     "name": "stdout",
     "text": [
      "Feature Importances for Random Forest Classifier\n"
     ]
    },
    {
     "output_type": "display_data",
     "data": {
      "text/plain": [
       "            Features  Importances\n",
       "2  petal length (cm)     0.439994\n",
       "3   petal width (cm)     0.421522\n",
       "0  sepal length (cm)     0.108098\n",
       "1   sepal width (cm)     0.030387"
      ],
      "text/html": [
       "<div>\n",
       "<style scoped>\n",
       "    .dataframe tbody tr th:only-of-type {\n",
       "        vertical-align: middle;\n",
       "    }\n",
       "\n",
       "    .dataframe tbody tr th {\n",
       "        vertical-align: top;\n",
       "    }\n",
       "\n",
       "    .dataframe thead th {\n",
       "        text-align: right;\n",
       "    }\n",
       "</style>\n",
       "<table border=\"1\" class=\"dataframe\">\n",
       "  <thead>\n",
       "    <tr style=\"text-align: right;\">\n",
       "      <th></th>\n",
       "      <th>Features</th>\n",
       "      <th>Importances</th>\n",
       "    </tr>\n",
       "  </thead>\n",
       "  <tbody>\n",
       "    <tr>\n",
       "      <th>2</th>\n",
       "      <td>petal length (cm)</td>\n",
       "      <td>0.439994</td>\n",
       "    </tr>\n",
       "    <tr>\n",
       "      <th>3</th>\n",
       "      <td>petal width (cm)</td>\n",
       "      <td>0.421522</td>\n",
       "    </tr>\n",
       "    <tr>\n",
       "      <th>0</th>\n",
       "      <td>sepal length (cm)</td>\n",
       "      <td>0.108098</td>\n",
       "    </tr>\n",
       "    <tr>\n",
       "      <th>1</th>\n",
       "      <td>sepal width (cm)</td>\n",
       "      <td>0.030387</td>\n",
       "    </tr>\n",
       "  </tbody>\n",
       "</table>\n",
       "</div>"
      ]
     },
     "metadata": {}
    }
   ],
   "metadata": {}
  }
 ],
 "metadata": {
  "orig_nbformat": 4,
  "language_info": {
   "name": "python"
  }
 },
 "nbformat": 4,
 "nbformat_minor": 2
}