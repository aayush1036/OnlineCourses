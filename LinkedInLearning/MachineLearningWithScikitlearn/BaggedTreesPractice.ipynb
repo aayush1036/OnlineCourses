{
 "cells": [
  {
   "cell_type": "code",
   "execution_count": 1,
   "source": [
    "# Reading the data \r\n",
    "import pandas as pd \r\n",
    "\r\n",
    "# Preprocessing \r\n",
    "from sklearn.model_selection import train_test_split\r\n",
    "\r\n",
    "# Visualizing \r\n",
    "import matplotlib.pyplot as plt \r\n",
    "\r\n",
    "# Building the model \r\n",
    "from sklearn.ensemble import BaggingRegressor"
   ],
   "outputs": [],
   "metadata": {}
  },
  {
   "cell_type": "markdown",
   "source": [
    "# Reading the data "
   ],
   "metadata": {}
  },
  {
   "cell_type": "code",
   "execution_count": 2,
   "source": [
    "data = pd.read_csv('../data/kc_house_data.csv')"
   ],
   "outputs": [],
   "metadata": {}
  },
  {
   "cell_type": "markdown",
   "source": [
    "# Extracting Features "
   ],
   "metadata": {}
  },
  {
   "cell_type": "code",
   "execution_count": 3,
   "source": [
    "features = ['bedrooms','bathrooms','sqft_living','sqft_lot','floors']\r\n",
    "X = data[features].values\r\n",
    "y = data['price'].values"
   ],
   "outputs": [],
   "metadata": {}
  },
  {
   "cell_type": "markdown",
   "source": [
    "# Splitting the data "
   ],
   "metadata": {}
  },
  {
   "cell_type": "code",
   "execution_count": 4,
   "source": [
    "X_train, X_test, y_train, y_test = train_test_split(X,y, test_size=0.2, random_state=42)"
   ],
   "outputs": [],
   "metadata": {}
  },
  {
   "cell_type": "markdown",
   "source": [
    "# Creating and training the model"
   ],
   "metadata": {}
  },
  {
   "cell_type": "code",
   "execution_count": 5,
   "source": [
    "#Creating the model \r\n",
    "reg = BaggingRegressor(n_estimators=100, random_state=42)\r\n",
    "#Training the model \r\n",
    "reg.fit(X_train, y_train)"
   ],
   "outputs": [
    {
     "output_type": "execute_result",
     "data": {
      "text/plain": [
       "BaggingRegressor(n_estimators=100, random_state=42)"
      ]
     },
     "metadata": {},
     "execution_count": 5
    }
   ],
   "metadata": {}
  },
  {
   "cell_type": "markdown",
   "source": [
    "# Predicting on the model"
   ],
   "metadata": {}
  },
  {
   "cell_type": "code",
   "execution_count": 6,
   "source": [
    "X_train[0].reshape(-1,1)"
   ],
   "outputs": [
    {
     "output_type": "execute_result",
     "data": {
      "text/plain": [
       "array([[3.0000e+00],\n",
       "       [1.7500e+00],\n",
       "       [1.7800e+03],\n",
       "       [1.3095e+04],\n",
       "       [1.0000e+00]])"
      ]
     },
     "metadata": {},
     "execution_count": 6
    }
   ],
   "metadata": {}
  },
  {
   "cell_type": "code",
   "execution_count": 7,
   "source": [
    "train_pred = reg.predict(X_train)\r\n",
    "test_pred = reg.predict(X_test)\r\n",
    "\r\n",
    "individual_pred = reg.predict(X_train[0].reshape(1,5))\r\n",
    "print(f'The prediction on individual example was {individual_pred[0]} whereas actual value was {y_train[0]}')"
   ],
   "outputs": [
    {
     "output_type": "stream",
     "name": "stdout",
     "text": [
      "The prediction on individual example was 354688.66666666674 whereas actual value was 325000.0\n"
     ]
    }
   ],
   "metadata": {}
  },
  {
   "cell_type": "markdown",
   "source": [
    "# Evaluating the model"
   ],
   "metadata": {}
  },
  {
   "cell_type": "code",
   "execution_count": 8,
   "source": [
    "r_sq_train = reg.score(X_train, y_train)\r\n",
    "r_sq_test = reg.score(X_test, y_test)\r\n",
    "\r\n",
    "print(f'The R squared for train set is {r_sq_train} and for test set is {r_sq_test}')"
   ],
   "outputs": [
    {
     "output_type": "stream",
     "name": "stdout",
     "text": [
      "The R squared for train set is 0.939532741609383 and for test set is 0.5037027481232426\n"
     ]
    }
   ],
   "metadata": {}
  },
  {
   "cell_type": "markdown",
   "source": [
    "# Hyperparameter tuning "
   ],
   "metadata": {}
  },
  {
   "cell_type": "code",
   "execution_count": 9,
   "source": [
    "train_rsquared = []\r\n",
    "test_rsquared = []\r\n",
    "\r\n",
    "for i in range(1,151):\r\n",
    "    reg_loop = BaggingRegressor(n_estimators=i, random_state=42) #building a regressor with specified depth\r\n",
    "    reg_loop.fit(X_train, y_train) #fitting the regressor \r\n",
    "    train_rsq_loop = reg_loop.score(X_train, y_train) #seeing r^2 for train set \r\n",
    "    test_rsq_loop = reg_loop.score(X_test, y_test) #seeing r^2 for test set \r\n",
    "    train_rsquared.append(train_rsq_loop) #appending the r^2 for train set \r\n",
    "    test_rsquared.append(test_rsq_loop) #appending the r^2 for test set "
   ],
   "outputs": [],
   "metadata": {}
  },
  {
   "cell_type": "markdown",
   "source": [
    "# Seeing the score for individual n_estimators"
   ],
   "metadata": {}
  },
  {
   "cell_type": "code",
   "execution_count": 10,
   "source": [
    "estimators = [i for i in range(1,151)]\r\n",
    "fig, ax = plt.subplots(figsize=(16,6),nrows=1, ncols=2)\r\n",
    "ax[0].plot(estimators, train_rsquared,color='blue')\r\n",
    "ax[0].set_xlabel('Number of estimators')\r\n",
    "ax[0].set_ylabel(r'$R^2$')\r\n",
    "ax[0].set_title(r'$R^2$ for various number of estimators on train set')\r\n",
    "ax[1].plot(estimators, test_rsquared,color='black')\r\n",
    "ax[1].set_xlabel('Number of estimators')\r\n",
    "ax[1].set_ylabel(r'$R^2$')\r\n",
    "ax[1].set_title(r'$R^2$ for various number of estimators on test set')\r\n",
    "plt.show()"
   ],
   "outputs": [
    {
     "output_type": "display_data",
     "data": {
      "text/plain": [
       "<Figure size 1152x432 with 2 Axes>"
      ],
      "image/png": "[encoded data removed]"
     },
     "metadata": {
      "needs_background": "light"
     }
    }
   ],
   "metadata": {}
  }
 ],
 "metadata": {
  "orig_nbformat": 4,
  "language_info": {
   "name": "python"
  }
 },
 "nbformat": 4,
 "nbformat_minor": 2
}