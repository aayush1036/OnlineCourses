{
 "cells": [
  {
   "cell_type": "code",
   "execution_count": 1,
   "source": [
    "# Data reading and manipulation \r\n",
    "import numpy as np\r\n",
    "import pandas as pd\r\n",
    "\r\n",
    "# Data preprocessing \r\n",
    "from sklearn.preprocessing import StandardScaler\r\n",
    "from sklearn.model_selection import train_test_split\r\n",
    "# Data modellling \r\n",
    "from sklearn.linear_model import LogisticRegression\r\n",
    "\r\n",
    "# Model evaluation \r\n",
    "from sklearn.metrics import f1_score, precision_score, recall_score, confusion_matrix\r\n",
    "\r\n",
    "# Data visualization \r\n",
    "import matplotlib.pyplot as plt\r\n",
    "import seaborn as sns"
   ],
   "outputs": [],
   "metadata": {}
  },
  {
   "cell_type": "markdown",
   "source": [
    "# Reading the data"
   ],
   "metadata": {}
  },
  {
   "cell_type": "code",
   "execution_count": 2,
   "source": [
    "iris = pd.read_csv('../data/modifiedIris2Classes.csv')"
   ],
   "outputs": [],
   "metadata": {}
  },
  {
   "cell_type": "code",
   "execution_count": 3,
   "source": [
    "iris.head()"
   ],
   "outputs": [
    {
     "output_type": "execute_result",
     "data": {
      "text/plain": [
       "   sepal length (cm)  sepal width (cm)  petal length (cm)  petal width (cm)  \\\n",
       "0                7.0               3.2                4.7               1.4   \n",
       "1                6.4               3.2                4.5               1.5   \n",
       "2                6.9               3.1                4.9               1.5   \n",
       "3                5.5               2.3                4.0               1.3   \n",
       "4                6.5               2.8                4.6               1.5   \n",
       "\n",
       "   target  \n",
       "0       0  \n",
       "1       0  \n",
       "2       0  \n",
       "3       0  \n",
       "4       0  "
      ],
      "text/html": [
       "<div>\n",
       "<style scoped>\n",
       "    .dataframe tbody tr th:only-of-type {\n",
       "        vertical-align: middle;\n",
       "    }\n",
       "\n",
       "    .dataframe tbody tr th {\n",
       "        vertical-align: top;\n",
       "    }\n",
       "\n",
       "    .dataframe thead th {\n",
       "        text-align: right;\n",
       "    }\n",
       "</style>\n",
       "<table border=\"1\" class=\"dataframe\">\n",
       "  <thead>\n",
       "    <tr style=\"text-align: right;\">\n",
       "      <th></th>\n",
       "      <th>sepal length (cm)</th>\n",
       "      <th>sepal width (cm)</th>\n",
       "      <th>petal length (cm)</th>\n",
       "      <th>petal width (cm)</th>\n",
       "      <th>target</th>\n",
       "    </tr>\n",
       "  </thead>\n",
       "  <tbody>\n",
       "    <tr>\n",
       "      <th>0</th>\n",
       "      <td>7.0</td>\n",
       "      <td>3.2</td>\n",
       "      <td>4.7</td>\n",
       "      <td>1.4</td>\n",
       "      <td>0</td>\n",
       "    </tr>\n",
       "    <tr>\n",
       "      <th>1</th>\n",
       "      <td>6.4</td>\n",
       "      <td>3.2</td>\n",
       "      <td>4.5</td>\n",
       "      <td>1.5</td>\n",
       "      <td>0</td>\n",
       "    </tr>\n",
       "    <tr>\n",
       "      <th>2</th>\n",
       "      <td>6.9</td>\n",
       "      <td>3.1</td>\n",
       "      <td>4.9</td>\n",
       "      <td>1.5</td>\n",
       "      <td>0</td>\n",
       "    </tr>\n",
       "    <tr>\n",
       "      <th>3</th>\n",
       "      <td>5.5</td>\n",
       "      <td>2.3</td>\n",
       "      <td>4.0</td>\n",
       "      <td>1.3</td>\n",
       "      <td>0</td>\n",
       "    </tr>\n",
       "    <tr>\n",
       "      <th>4</th>\n",
       "      <td>6.5</td>\n",
       "      <td>2.8</td>\n",
       "      <td>4.6</td>\n",
       "      <td>1.5</td>\n",
       "      <td>0</td>\n",
       "    </tr>\n",
       "  </tbody>\n",
       "</table>\n",
       "</div>"
      ]
     },
     "metadata": {},
     "execution_count": 3
    }
   ],
   "metadata": {}
  },
  {
   "cell_type": "code",
   "execution_count": 4,
   "source": [
    "X = iris.iloc[:,:-1]\r\n",
    "y = iris.iloc[:,-1]"
   ],
   "outputs": [],
   "metadata": {}
  },
  {
   "cell_type": "code",
   "execution_count": 5,
   "source": [
    "X_train, X_test, y_train, y_test = train_test_split(X,y, test_size=0.2, random_state=42)"
   ],
   "outputs": [],
   "metadata": {}
  },
  {
   "cell_type": "code",
   "execution_count": 34,
   "source": [
    "scaler = StandardScaler()\r\n",
    "scaler.fit(X_train) #feed the means and stdevs of each column of X_train to the scaler \r\n",
    "X_scaled_train = scaler.transform(X_train) #transform wrt means and stdevs of train set \r\n",
    "X_scaled_test = scaler.transform(X_test) #transform wrt means and stdevs of train set "
   ],
   "outputs": [],
   "metadata": {}
  },
  {
   "cell_type": "markdown",
   "source": [
    "# Logistic Regression"
   ],
   "metadata": {}
  },
  {
   "cell_type": "code",
   "execution_count": 6,
   "source": [
    "clf = LogisticRegression()\r\n",
    "clf.fit(X_train, y_train)"
   ],
   "outputs": [
    {
     "output_type": "execute_result",
     "data": {
      "text/plain": [
       "LogisticRegression()"
      ]
     },
     "metadata": {},
     "execution_count": 6
    }
   ],
   "metadata": {}
  },
  {
   "cell_type": "code",
   "execution_count": 15,
   "source": [
    "labels = iris.columns[:-1]\r\n",
    "coefficients = np.array(clf.coef_).transpose()"
   ],
   "outputs": [],
   "metadata": {}
  },
  {
   "cell_type": "code",
   "execution_count": 19,
   "source": [
    "print(f'The intercept for the logistic regression is {clf.intercept_[0]}')"
   ],
   "outputs": [
    {
     "output_type": "stream",
     "name": "stdout",
     "text": [
      "The intercept for the logistic regression is -13.162740778051848\n"
     ]
    }
   ],
   "metadata": {}
  },
  {
   "cell_type": "code",
   "execution_count": 17,
   "source": [
    "for coef, label in zip(coefficients,labels):\r\n",
    "    print(f'The coefficient of {label} is {coef[0]}')"
   ],
   "outputs": [
    {
     "output_type": "stream",
     "name": "stdout",
     "text": [
      "The coefficient of sepal length (cm) is -0.3567446809905793\n",
      "The coefficient of sepal width (cm) is -0.7375019293145142\n",
      "The coefficient of petal length (cm) is 2.834251273478908\n",
      "The coefficient of petal width (cm) is 2.1928716629617235\n"
     ]
    }
   ],
   "metadata": {}
  },
  {
   "cell_type": "markdown",
   "source": [
    "# Predictions "
   ],
   "metadata": {}
  },
  {
   "cell_type": "code",
   "execution_count": 20,
   "source": [
    "# For F1 score, precision, recall and confusion matrix \r\n",
    "train_pred = clf.predict(X_train)\r\n",
    "test_pred = clf.predict(X_test)"
   ],
   "outputs": [],
   "metadata": {}
  },
  {
   "cell_type": "code",
   "execution_count": 26,
   "source": [
    "# predicting on single X \r\n",
    "pred_data = np.array([7.0,3.2,4.7,1.4]).reshape((1,4))\r\n",
    "print(f'The prediction for this test data is {clf.predict(pred_data)}')\r\n",
    "print(f'The probabilities for this test data is {clf.predict_proba(pred_data)}')\r\n",
    "print(f'The probability before applying the sigmoid function is {clf.predict_log_proba(pred_data)}') #we rarely use this "
   ],
   "outputs": [
    {
     "output_type": "stream",
     "name": "stdout",
     "text": [
      "The prediction for this test data is [0]\n",
      "The probabilities for this test data is [[0.8360269 0.1639731]]\n",
      "The probability before applying the sigmoid function is [[-0.17909449 -1.80805289]]\n"
     ]
    }
   ],
   "metadata": {}
  },
  {
   "cell_type": "markdown",
   "source": [
    "$Precision = \\frac{TP}{TP+FP}$<br>\r\n",
    "$Recall = \\frac{TP}{TP+FN}$\r\n",
    "\r\n",
    "$F1 = 2\\times \\frac{Precision\\times Recall}{Precision+Recall}$ <br>\r\n",
    "Harmonic mean of Precision and Recall<br>\r\n",
    "\r\n",
    "F1 score takes both FP and FN into account, hence more accurate "
   ],
   "metadata": {}
  },
  {
   "cell_type": "markdown",
   "source": [
    "# Model Evaluation"
   ],
   "metadata": {}
  },
  {
   "cell_type": "code",
   "execution_count": 32,
   "source": [
    "# For train set \r\n",
    "precision_train = precision_score(y_true=y_train, y_pred=train_pred)\r\n",
    "recall_train = recall_score(y_true=y_train,y_pred=train_pred)\r\n",
    "f1_train = f1_score(y_true=y_train, y_pred=train_pred)\r\n",
    "\r\n",
    "print(f'The precision for training set is {precision_train}')\r\n",
    "print(f'The recall for train set is {recall_train}')\r\n",
    "print(f'Hence the F1 score is {f1_train}')"
   ],
   "outputs": [
    {
     "output_type": "stream",
     "name": "stdout",
     "text": [
      "The precision for training set is 0.9761904761904762\n",
      "The recall for train set is 0.9761904761904762\n",
      "Hence the F1 score is 0.9761904761904762\n"
     ]
    }
   ],
   "metadata": {}
  },
  {
   "cell_type": "code",
   "execution_count": 33,
   "source": [
    "# Confusion Matrix \r\n",
    "conf_matrix = confusion_matrix(y_true=y_train, y_pred=train_pred)\r\n",
    "print(conf_matrix)"
   ],
   "outputs": [
    {
     "output_type": "stream",
     "name": "stdout",
     "text": [
      "[[37  1]\n",
      " [ 1 41]]\n"
     ]
    }
   ],
   "metadata": {}
  },
  {
   "cell_type": "code",
   "execution_count": 39,
   "source": [
    "fig, ax = plt.subplots(figsize=(8,8))\r\n",
    "sns.heatmap(conf_matrix, annot=True,ax=ax,cmap=\"Blues\")\r\n",
    "ax.set_title('Correlation Heatmap');"
   ],
   "outputs": [
    {
     "output_type": "display_data",
     "data": {
      "text/plain": [
       "<Figure size 576x576 with 2 Axes>"
      ],
      "image/png": "[encoded data removed]"
     },
     "metadata": {
      "needs_background": "light"
     }
    }
   ],
   "metadata": {}
  }
 ],
 "metadata": {
  "orig_nbformat": 4,
  "language_info": {
   "name": "python"
  }
 },
 "nbformat": 4,
 "nbformat_minor": 2
}