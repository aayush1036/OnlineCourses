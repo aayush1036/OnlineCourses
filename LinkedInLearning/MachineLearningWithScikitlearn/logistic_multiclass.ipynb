{
 "cells": [
  {
   "cell_type": "code",
   "execution_count": 25,
   "source": [
    "# For reading Data\r\n",
    "import pandas as pd \r\n",
    "\r\n",
    "#for preprocessing\r\n",
    "from sklearn.preprocessing import StandardScaler\r\n",
    "from sklearn.model_selection import train_test_split\r\n",
    "\r\n",
    "#for visualization \r\n",
    "import matplotlib.pyplot as plt \r\n",
    "import seaborn as sns \r\n",
    "\r\n",
    "#for building model \r\n",
    "from sklearn.linear_model import LogisticRegression\r\n",
    "\r\n",
    "#Model Evaluation\r\n",
    "#from sklearn.metrics import accuracy_score\r\n",
    "from sklearn.metrics import precision_score, recall_score, f1_score, confusion_matrix,classification_report"
   ],
   "outputs": [],
   "metadata": {}
  },
  {
   "cell_type": "markdown",
   "source": [
    "# Reading the Data"
   ],
   "metadata": {}
  },
  {
   "cell_type": "code",
   "execution_count": 2,
   "source": [
    "df = pd.read_csv('../data/modifiedDigits4Classes.csv')"
   ],
   "outputs": [],
   "metadata": {}
  },
  {
   "cell_type": "markdown",
   "source": [
    "# Split X and Y"
   ],
   "metadata": {}
  },
  {
   "cell_type": "code",
   "execution_count": 3,
   "source": [
    "X = df.iloc[:,:-1]\r\n",
    "y = df.iloc[:,-1]\r\n",
    "\r\n",
    "X_train, X_test, y_train, y_test = train_test_split(X,y,random_state=42, test_size=0.2)"
   ],
   "outputs": [],
   "metadata": {}
  },
  {
   "cell_type": "markdown",
   "source": [
    "# Standardization"
   ],
   "metadata": {}
  },
  {
   "cell_type": "code",
   "execution_count": 24,
   "source": [
    "plt.imshow(X_train.loc[0].values.reshape((8,8)),cmap='binary')"
   ],
   "outputs": [
    {
     "output_type": "execute_result",
     "data": {
      "text/plain": [
       "<matplotlib.image.AxesImage at 0x1ce86ab7520>"
      ]
     },
     "metadata": {},
     "execution_count": 24
    },
    {
     "output_type": "display_data",
     "data": {
      "text/plain": [
       "<Figure size 432x288 with 1 Axes>"
      ],
      "image/png": "[encoded data removed]"
     },
     "metadata": {
      "needs_background": "light"
     }
    }
   ],
   "metadata": {}
  },
  {
   "cell_type": "code",
   "execution_count": 4,
   "source": [
    "scaler = StandardScaler()\r\n",
    "scaler.fit(X_train)\r\n",
    "\r\n",
    "X_train_scaled = scaler.transform(X_train)\r\n",
    "X_test_scaled = scaler.transform(X_test)"
   ],
   "outputs": [],
   "metadata": {}
  },
  {
   "cell_type": "markdown",
   "source": [
    "# Creating the model and fitting it to the data"
   ],
   "metadata": {}
  },
  {
   "cell_type": "code",
   "execution_count": 5,
   "source": [
    "clf = LogisticRegression(solver='liblinear',random_state=42,multi_class='ovr')\r\n",
    "#liblinear implements lasso regularization \r\n",
    "#multiclass='ovr' implements one vs all strategy \r\n",
    "clf.fit(X_train_scaled, y_train)"
   ],
   "outputs": [
    {
     "output_type": "execute_result",
     "data": {
      "text/plain": [
       "LogisticRegression(multi_class='ovr', random_state=42, solver='liblinear')"
      ]
     },
     "metadata": {},
     "execution_count": 5
    }
   ],
   "metadata": {}
  },
  {
   "cell_type": "markdown",
   "source": [
    "# Predicting the data"
   ],
   "metadata": {}
  },
  {
   "cell_type": "code",
   "execution_count": 8,
   "source": [
    "train_pred = clf.predict(X_train_scaled)\r\n",
    "test_pred = clf.predict(X_test_scaled)\r\n",
    "\r\n",
    "print(f'Accuracy of model on train set is {clf.score(X_train_scaled, y_train)}')\r\n",
    "print(f'Accuracy of model on test set is {clf.score(X_test_scaled, y_test)}')"
   ],
   "outputs": [
    {
     "output_type": "stream",
     "name": "stdout",
     "text": [
      "Accuracy of model on train set is 1.0\n",
      "Accuracy of model on test set is 1.0\n"
     ]
    }
   ],
   "metadata": {}
  },
  {
   "cell_type": "markdown",
   "source": [
    "$Precision = \\frac{TP}{TP+FP}$<br>\r\n",
    "$Recall = \\frac{TP}{TP+FN}$\r\n",
    "\r\n",
    "$F1 = 2\\times \\frac{Precision\\times Recall}{Precision+Recall}$ <br>\r\n",
    "Harmonic mean of Precision and Recall<br>\r\n",
    "\r\n",
    "F1 score takes both FP and FN into account, hence more accurate "
   ],
   "metadata": {}
  },
  {
   "cell_type": "markdown",
   "source": [
    "# Evaluating our model"
   ],
   "metadata": {}
  },
  {
   "cell_type": "code",
   "execution_count": 12,
   "source": [
    "precision_train = precision_score(y_true=y_train, y_pred=train_pred,average='macro')\r\n",
    "recall_train = recall_score(y_true=y_train, y_pred=train_pred,average='macro')\r\n",
    "f1_train = f1_score(y_true=y_train, y_pred=train_pred,average='macro')\r\n",
    "\r\n",
    "# We set the average to macro because of multiclass prediction so that it computes the score for each class and then takes avg of the scores\r\n",
    "\r\n",
    "conf_matrix = confusion_matrix(y_true=y_train, y_pred=train_pred)\r\n",
    "\r\n",
    "print(f'Precision score for train set is {precision_train}')\r\n",
    "print(f'Recall score for train set is {recall_train}')\r\n",
    "print(f'F1 score for train set is {f1_train}')"
   ],
   "outputs": [
    {
     "output_type": "stream",
     "name": "stdout",
     "text": [
      "Precision score for train set is 1.0\n",
      "Recall score for train set is 1.0\n",
      "F1 score for train set is 1.0\n"
     ]
    }
   ],
   "metadata": {}
  },
  {
   "cell_type": "code",
   "execution_count": 14,
   "source": [
    "# Classification report for each class \r\n",
    "print(classification_report(y_pred=train_pred, y_true=y_train))"
   ],
   "outputs": [
    {
     "output_type": "stream",
     "name": "stdout",
     "text": [
      "              precision    recall  f1-score   support\n",
      "\n",
      "           0       1.00      1.00      1.00       136\n",
      "           1       1.00      1.00      1.00       146\n",
      "           2       1.00      1.00      1.00       144\n",
      "           3       1.00      1.00      1.00       150\n",
      "\n",
      "    accuracy                           1.00       576\n",
      "   macro avg       1.00      1.00      1.00       576\n",
      "weighted avg       1.00      1.00      1.00       576\n",
      "\n"
     ]
    }
   ],
   "metadata": {}
  },
  {
   "cell_type": "code",
   "execution_count": 15,
   "source": [
    "print(conf_matrix)"
   ],
   "outputs": [
    {
     "output_type": "stream",
     "name": "stdout",
     "text": [
      "[[136   0   0   0]\n",
      " [  0 146   0   0]\n",
      " [  0   0 144   0]\n",
      " [  0   0   0 150]]\n"
     ]
    }
   ],
   "metadata": {}
  },
  {
   "cell_type": "code",
   "execution_count": 30,
   "source": [
    "fig, ax = plt.subplots(figsize=(8,8))\r\n",
    "sns.heatmap(conf_matrix, ax=ax, annot=True,cmap='Blues',fmt='g')\r\n",
    "ax.set_title('Confusion Matrix')\r\n",
    "plt.show()"
   ],
   "outputs": [
    {
     "output_type": "display_data",
     "data": {
      "text/plain": [
       "<Figure size 576x576 with 2 Axes>"
      ],
      "image/png": "[encoded data removed]"
     },
     "metadata": {
      "needs_background": "light"
     }
    }
   ],
   "metadata": {}
  }
 ],
 "metadata": {
  "orig_nbformat": 4,
  "language_info": {
   "name": "python"
  }
 },
 "nbformat": 4,
 "nbformat_minor": 2
}