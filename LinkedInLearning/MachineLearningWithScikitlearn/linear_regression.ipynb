{
 "cells": [
  {
   "cell_type": "code",
   "execution_count": 1,
   "source": [
    "import numpy as np\r\n",
    "import pandas as pd \r\n",
    "from sklearn.linear_model import LinearRegression\r\n",
    "from sklearn.model_selection import train_test_split\r\n",
    "import matplotlib.pyplot as plt "
   ],
   "outputs": [],
   "metadata": {}
  },
  {
   "cell_type": "markdown",
   "source": [
    "# Reading the Data"
   ],
   "metadata": {}
  },
  {
   "cell_type": "code",
   "execution_count": 2,
   "source": [
    "df = pd.read_csv('../data/linear.csv')"
   ],
   "outputs": [],
   "metadata": {}
  },
  {
   "cell_type": "code",
   "execution_count": 3,
   "source": [
    "df.head()"
   ],
   "outputs": [
    {
     "output_type": "execute_result",
     "data": {
      "text/plain": [
       "            x           y\n",
       "0    0.000000  -51.000000\n",
       "1   25.000000  -12.000000\n",
       "2  117.583220  134.907414\n",
       "3  108.922466  134.085180\n",
       "4   69.887445         NaN"
      ],
      "text/html": [
       "<div>\n",
       "<style scoped>\n",
       "    .dataframe tbody tr th:only-of-type {\n",
       "        vertical-align: middle;\n",
       "    }\n",
       "\n",
       "    .dataframe tbody tr th {\n",
       "        vertical-align: top;\n",
       "    }\n",
       "\n",
       "    .dataframe thead th {\n",
       "        text-align: right;\n",
       "    }\n",
       "</style>\n",
       "<table border=\"1\" class=\"dataframe\">\n",
       "  <thead>\n",
       "    <tr style=\"text-align: right;\">\n",
       "      <th></th>\n",
       "      <th>x</th>\n",
       "      <th>y</th>\n",
       "    </tr>\n",
       "  </thead>\n",
       "  <tbody>\n",
       "    <tr>\n",
       "      <th>0</th>\n",
       "      <td>0.000000</td>\n",
       "      <td>-51.000000</td>\n",
       "    </tr>\n",
       "    <tr>\n",
       "      <th>1</th>\n",
       "      <td>25.000000</td>\n",
       "      <td>-12.000000</td>\n",
       "    </tr>\n",
       "    <tr>\n",
       "      <th>2</th>\n",
       "      <td>117.583220</td>\n",
       "      <td>134.907414</td>\n",
       "    </tr>\n",
       "    <tr>\n",
       "      <th>3</th>\n",
       "      <td>108.922466</td>\n",
       "      <td>134.085180</td>\n",
       "    </tr>\n",
       "    <tr>\n",
       "      <th>4</th>\n",
       "      <td>69.887445</td>\n",
       "      <td>NaN</td>\n",
       "    </tr>\n",
       "  </tbody>\n",
       "</table>\n",
       "</div>"
      ]
     },
     "metadata": {},
     "execution_count": 3
    }
   ],
   "metadata": {}
  },
  {
   "cell_type": "code",
   "execution_count": 4,
   "source": [
    "df.isnull().sum()[df.isnull().sum()>0] #boolean mask/boolean selection "
   ],
   "outputs": [
    {
     "output_type": "execute_result",
     "data": {
      "text/plain": [
       "y    8\n",
       "dtype: int64"
      ]
     },
     "metadata": {},
     "execution_count": 4
    }
   ],
   "metadata": {}
  },
  {
   "cell_type": "code",
   "execution_count": 5,
   "source": [
    "# dropping the null values\r\n",
    "df.dropna(inplace=True) #inplace=True to make the changes permanent"
   ],
   "outputs": [],
   "metadata": {}
  },
  {
   "cell_type": "markdown",
   "source": [
    "# Train test split"
   ],
   "metadata": {}
  },
  {
   "cell_type": "markdown",
   "source": [
    "```python \r\n",
    "x_cols = ['x']\r\n",
    "y_cols = ['y']\r\n",
    "\r\n",
    "\r\n",
    "#method 1 \r\n",
    "X = df[x_cols].values\r\n",
    "y = df[y_col].values\r\n",
    "\r\n",
    "#method 2 \r\n",
    "X = df[x_cols].values \r\n",
    "y = df.drop(x_cols, axis=1)\r\n",
    "\r\n",
    "#method 3 \r\n",
    "X = df.loc[:, x_cols]\r\n",
    "y = df.loc[:, y_cols]\r\n",
    "\r\n",
    "#method 4 \r\n",
    "X  = df.iloc[:,:-1] #everything except the last column\r\n",
    "y = df.iloc[:,-1] #everything and only the last column\r\n",
    "```"
   ],
   "metadata": {}
  },
  {
   "cell_type": "code",
   "execution_count": 6,
   "source": [
    "X =df.iloc[:,:-1]\r\n",
    "y = df.iloc[:,-1]"
   ],
   "outputs": [],
   "metadata": {}
  },
  {
   "cell_type": "code",
   "execution_count": 7,
   "source": [
    "X_train, X_test, y_train, y_test = train_test_split(X,y,random_state=42,test_size=0.2)"
   ],
   "outputs": [],
   "metadata": {}
  },
  {
   "cell_type": "markdown",
   "source": [
    "# Creating the LinearRegression model"
   ],
   "metadata": {}
  },
  {
   "cell_type": "code",
   "execution_count": 8,
   "source": [
    "reg = LinearRegression(fit_intercept=True)"
   ],
   "outputs": [],
   "metadata": {}
  },
  {
   "cell_type": "markdown",
   "source": [
    "# Fitting the data / training the model "
   ],
   "metadata": {}
  },
  {
   "cell_type": "code",
   "execution_count": 9,
   "source": [
    "reg.fit(X_train, y_train)"
   ],
   "outputs": [
    {
     "output_type": "execute_result",
     "data": {
      "text/plain": [
       "LinearRegression()"
      ]
     },
     "metadata": {},
     "execution_count": 9
    }
   ],
   "metadata": {}
  },
  {
   "cell_type": "markdown",
   "source": [
    "# Making predictions on test set "
   ],
   "metadata": {}
  },
  {
   "cell_type": "code",
   "execution_count": 10,
   "source": [
    "train_pred = reg.predict(X_train)\r\n",
    "test_pred = reg.predict(X_test)"
   ],
   "outputs": [],
   "metadata": {}
  },
  {
   "cell_type": "code",
   "execution_count": 11,
   "source": [
    "reg.predict(np.array([5]).reshape((-1,1)))"
   ],
   "outputs": [
    {
     "output_type": "execute_result",
     "data": {
      "text/plain": [
       "array([-42.9350823])"
      ]
     },
     "metadata": {},
     "execution_count": 11
    }
   ],
   "metadata": {}
  },
  {
   "cell_type": "markdown",
   "source": [
    "# Testing the model"
   ],
   "metadata": {}
  },
  {
   "cell_type": "code",
   "execution_count": 12,
   "source": [
    "# printing the equation \r\n",
    "beta = reg.coef_ # beta (written as b*x in eqn)\r\n",
    "#coef_ returns a numpy array even though there is a single coef  \r\n",
    "alpha = reg.intercept_ #alpha \r\n",
    "\r\n",
    "print(f'The equation is {alpha:.3} + {beta[0]:.3}*X')"
   ],
   "outputs": [
    {
     "output_type": "stream",
     "name": "stdout",
     "text": [
      "The equation is -50.8 + 1.57*X\n"
     ]
    }
   ],
   "metadata": {}
  },
  {
   "cell_type": "code",
   "execution_count": 13,
   "source": [
    "# Printing the R^2 for training and test set\r\n",
    "print(f'The R squared value for training set is {reg.score(X_train, y_train):.3}')\r\n",
    "print(f'The R squared value for test set is {reg.score(X_test,y_test):.3}')"
   ],
   "outputs": [
    {
     "output_type": "stream",
     "name": "stdout",
     "text": [
      "The R squared value for training set is 0.978\n",
      "The R squared value for test set is 0.982\n"
     ]
    }
   ],
   "metadata": {}
  },
  {
   "cell_type": "markdown",
   "source": [
    "# Plotting the predictions vs actual data "
   ],
   "metadata": {}
  },
  {
   "cell_type": "code",
   "execution_count": 14,
   "source": [
    "# creating a model without intercept and fitting it \r\n",
    "reg_no_intercept = LinearRegression(fit_intercept=False).fit(X_train, y_train) #creating and fitting it in one line \r\n",
    "pred_no_intercept = reg_no_intercept.predict(X_train)\r\n",
    "\r\n",
    "print(f'R squared for training set without intercept is {reg_no_intercept.score(X_train, y_train)}')"
   ],
   "outputs": [
    {
     "output_type": "stream",
     "name": "stdout",
     "text": [
      "R squared for training set without intercept is 0.8607848424294884\n"
     ]
    }
   ],
   "metadata": {}
  },
  {
   "cell_type": "code",
   "execution_count": 15,
   "source": [
    "fig, ax = plt.subplots(figsize=(16,6),nrows=1, ncols=2)\r\n",
    "ax[0].scatter(X_train, y_train, color='red')\r\n",
    "ax[0].plot(X_train, train_pred, color='black')\r\n",
    "ax[0].set_xlabel('X')\r\n",
    "ax[0].set_ylabel('Y')\r\n",
    "ax[0].set_title(r'Regression without intercept $y=-50.8 + 1.57*x$ with $R^2 = 0.978$')\r\n",
    "ax[0].set_xlim(0,150)\r\n",
    "ax[1].scatter(X_train, y_train, color='red')\r\n",
    "ax[1].plot(X_train, pred_no_intercept, color='black')\r\n",
    "ax[1].set_xlabel('X')\r\n",
    "ax[1].set_ylabel('Y')\r\n",
    "ax[1].set_title(r'Regression without intercept $y = 1.06*X+0$, $R^2 = 0.860$')\r\n",
    "ax[1].set_xlim(0,150)\r\n",
    "plt.show()"
   ],
   "outputs": [
    {
     "output_type": "display_data",
     "data": {
      "text/plain": [
       "<Figure size 1152x432 with 2 Axes>"
      ],
      "image/png": "[encoded data removed]"
     },
     "metadata": {
      "needs_background": "light"
     }
    }
   ],
   "metadata": {}
  }
 ],
 "metadata": {
  "orig_nbformat": 4,
  "language_info": {
   "name": "python"
  }
 },
 "nbformat": 4,
 "nbformat_minor": 2
}