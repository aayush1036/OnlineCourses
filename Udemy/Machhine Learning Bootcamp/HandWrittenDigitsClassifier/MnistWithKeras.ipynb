{
 "cells": [
  {
   "cell_type": "markdown",
   "metadata": {},
   "source": [
    "# Imports"
   ]
  },
  {
   "cell_type": "code",
   "execution_count": 1,
   "metadata": {},
   "outputs": [],
   "source": [
    "#fixing the seed\r\n",
    "from numpy.random import seed\r\n",
    "seed(888)\r\n",
    "from tensorflow.random import set_seed\r\n",
    "set_seed(404)"
   ]
  },
  {
   "cell_type": "code",
   "execution_count": 2,
   "metadata": {},
   "outputs": [],
   "source": [
    "#importing RELEVANT modules \r\n",
    "import numpy as np #to do array tranformations \r\n",
    "from keras.models import Sequential #for neural network model\r\n",
    "from keras.layers import Dense, Dropout #for neural network layers \r\n",
    "\r\n",
    "from PIL import Image # to read images \r\n",
    "\r\n",
    "from sklearn.metrics import confusion_matrix # to evaluate the model \r\n",
    "\r\n",
    "import matplotlib.pyplot as plt \r\n",
    "import seaborn as sns\r\n",
    "\r\n",
    "import pandas as pd\r\n",
    "\r\n",
    "import os"
   ]
  },
  {
   "cell_type": "markdown",
   "metadata": {},
   "source": [
    "# Declare constants "
   ]
  },
  {
   "cell_type": "code",
   "execution_count": 3,
   "metadata": {},
   "outputs": [],
   "source": [
    "#FILEPATHS TO READ THE DATA \r\n",
    "X_TRAIN_PATH = 'MNIST/digit_xtrain.csv'\r\n",
    "X_TEST_PATH ='MNIST/digit_xtest.csv'\r\n",
    "Y_TRAIN_PATH = 'MNIST/digit_ytrain.csv'\r\n",
    "Y_TEST_PATH = 'MNIST/digit_ytest.csv'\r\n",
    "\r\n",
    "IMAGE_HEIGHT = 28\r\n",
    "IMAGE_WIDTH = 28\r\n",
    "COLOR_CHANNELS = 1\r\n",
    "\r\n",
    "TOTAL_INPUTS = IMAGE_HEIGHT*IMAGE_WIDTH*COLOR_CHANNELS #FOR FIRST HIDDEN LAYER \r\n",
    "\r\n",
    "N_CLASSES = 10 #FOR OUTPUT LAYER \r\n",
    "VALIDATION_SIZE = 10000 #FOR CREATING VALIDATION DATASET"
   ]
  },
  {
   "cell_type": "markdown",
   "metadata": {},
   "source": [
    "# Read the data "
   ]
  },
  {
   "cell_type": "code",
   "execution_count": 4,
   "metadata": {},
   "outputs": [],
   "source": [
    "x_train = np.loadtxt(X_TRAIN_PATH, delimiter=',',dtype=np.int32)\r\n",
    "x_test = np.loadtxt(X_TEST_PATH, delimiter=',',dtype=np.int32)\r\n",
    "y_train = np.loadtxt(Y_TRAIN_PATH, delimiter=',',dtype=np.int32)\r\n",
    "y_test = np.loadtxt(Y_TEST_PATH, delimiter=',',dtype=np.int32)"
   ]
  },
  {
   "cell_type": "markdown",
   "metadata": {},
   "source": [
    "# Creating validation sets and preprocessing data"
   ]
  },
  {
   "cell_type": "code",
   "execution_count": 5,
   "metadata": {},
   "outputs": [],
   "source": [
    "x_train = x_train/255.0\r\n",
    "x_test = x_test/255.0"
   ]
  },
  {
   "cell_type": "code",
   "execution_count": 6,
   "metadata": {},
   "outputs": [],
   "source": [
    "x_train = x_train[VALIDATION_SIZE:]\r\n",
    "y_train = y_train[VALIDATION_SIZE:]\r\n",
    "x_val = x_train[:VALIDATION_SIZE]\r\n",
    "y_val = y_train[:VALIDATION_SIZE]"
   ]
  },
  {
   "cell_type": "code",
   "execution_count": 7,
   "metadata": {},
   "outputs": [
    {
     "name": "stdout",
     "output_type": "stream",
     "text": [
      "x train (50000, 784)\n",
      "y train (50000,)\n",
      "x val (10000, 784)\n",
      "y val (10000,)\n"
     ]
    }
   ],
   "source": [
    "print(f'x train {x_train.shape}')\r\n",
    "print(f'y train {y_train.shape}')\r\n",
    "print(f'x val {x_val.shape}')\r\n",
    "print(f'y val {y_val.shape}')"
   ]
  },
  {
   "cell_type": "markdown",
   "metadata": {},
   "source": [
    "# Defining the architecture/structure of our model"
   ]
  },
  {
   "cell_type": "code",
   "execution_count": 8,
   "metadata": {},
   "outputs": [],
   "source": [
    "# declaring hyperparameters \r\n",
    "n_hidden1 = 512\r\n",
    "n_hidden2 = 64\r\n",
    "prob_dropout = 0.2\r\n",
    "\r\n",
    "n_epochs = 50\r\n",
    "batch_size = 1000"
   ]
  },
  {
   "cell_type": "code",
   "execution_count": 9,
   "metadata": {},
   "outputs": [],
   "source": [
    "model_1 = Sequential([\r\n",
    "    Dense(units=n_hidden1,input_dim=TOTAL_INPUTS,activation='relu',name='hidden_1'), #creating the first hidden layer of 512 neurons which recieves \r\n",
    "    #input from 784 neurons and has relu activation function \r\n",
    "    Dropout(prob_dropout, seed=42), #creating a dropout layer which drops 20% of the neurons with a seed of 42\r\n",
    "    Dense(units=n_hidden2, activation='relu',name='hidden_2'), #create a hidden layer which has 64 neurons and has an activation function of relu \r\n",
    "    Dense(units=N_CLASSES,activation='softmax',name='output') #create the output layer of 10 neurons with activation function of softmax\r\n",
    "])\r\n",
    "\r\n",
    "model_1.compile(optimizer='Adam',loss='sparse_categorical_crossentropy',metrics=['accuracy'])\r\n",
    "#compile the model by using adam optimizer and using sparse categorical cross entropy loss function and measuring accuracy after each epoch "
   ]
  },
  {
   "cell_type": "code",
   "execution_count": 10,
   "metadata": {},
   "outputs": [
    {
     "name": "stdout",
     "output_type": "stream",
     "text": [
      "Epoch 1/50\n",
      "50/50 [==============================] - 14s 16ms/step - loss: 1.1288 - accuracy: 0.6717 - val_loss: 0.2591 - val_accuracy: 0.9258\n",
      "Epoch 2/50\n",
      "50/50 [==============================] - 0s 8ms/step - loss: 0.2560 - accuracy: 0.9253 - val_loss: 0.1689 - val_accuracy: 0.9518\n",
      "Epoch 3/50\n",
      "50/50 [==============================] - 0s 8ms/step - loss: 0.1782 - accuracy: 0.9485 - val_loss: 0.1257 - val_accuracy: 0.9646\n",
      "Epoch 4/50\n",
      "50/50 [==============================] - 0s 7ms/step - loss: 0.1385 - accuracy: 0.9602 - val_loss: 0.0944 - val_accuracy: 0.9737\n",
      "Epoch 5/50\n",
      "50/50 [==============================] - 0s 7ms/step - loss: 0.1068 - accuracy: 0.9695 - val_loss: 0.0738 - val_accuracy: 0.9774\n",
      "Epoch 6/50\n",
      "50/50 [==============================] - 0s 7ms/step - loss: 0.0905 - accuracy: 0.9727 - val_loss: 0.0590 - val_accuracy: 0.9830\n",
      "Epoch 7/50\n",
      "50/50 [==============================] - 0s 7ms/step - loss: 0.0734 - accuracy: 0.9783 - val_loss: 0.0500 - val_accuracy: 0.9860\n",
      "Epoch 8/50\n",
      "50/50 [==============================] - 0s 7ms/step - loss: 0.0653 - accuracy: 0.9811 - val_loss: 0.0382 - val_accuracy: 0.9894\n",
      "Epoch 9/50\n",
      "50/50 [==============================] - 0s 7ms/step - loss: 0.0542 - accuracy: 0.9842 - val_loss: 0.0367 - val_accuracy: 0.9897\n",
      "Epoch 10/50\n",
      "50/50 [==============================] - 0s 8ms/step - loss: 0.0497 - accuracy: 0.9856 - val_loss: 0.0266 - val_accuracy: 0.9941\n",
      "Epoch 11/50\n",
      "50/50 [==============================] - 0s 8ms/step - loss: 0.0402 - accuracy: 0.9883 - val_loss: 0.0224 - val_accuracy: 0.9953\n",
      "Epoch 12/50\n",
      "50/50 [==============================] - 0s 8ms/step - loss: 0.0356 - accuracy: 0.9895 - val_loss: 0.0185 - val_accuracy: 0.9969\n",
      "Epoch 13/50\n",
      "50/50 [==============================] - 0s 8ms/step - loss: 0.0306 - accuracy: 0.9911 - val_loss: 0.0163 - val_accuracy: 0.9962\n",
      "Epoch 14/50\n",
      "50/50 [==============================] - 0s 8ms/step - loss: 0.0282 - accuracy: 0.9921 - val_loss: 0.0147 - val_accuracy: 0.9967\n",
      "Epoch 15/50\n",
      "50/50 [==============================] - 0s 8ms/step - loss: 0.0265 - accuracy: 0.9927 - val_loss: 0.0130 - val_accuracy: 0.9974\n",
      "Epoch 16/50\n",
      "50/50 [==============================] - 0s 7ms/step - loss: 0.0236 - accuracy: 0.9936 - val_loss: 0.0099 - val_accuracy: 0.9985\n",
      "Epoch 17/50\n",
      "50/50 [==============================] - 0s 8ms/step - loss: 0.0205 - accuracy: 0.9950 - val_loss: 0.0088 - val_accuracy: 0.9990\n",
      "Epoch 18/50\n",
      "50/50 [==============================] - 0s 7ms/step - loss: 0.0180 - accuracy: 0.9953 - val_loss: 0.0068 - val_accuracy: 0.9993\n",
      "Epoch 19/50\n",
      "50/50 [==============================] - 0s 6ms/step - loss: 0.0162 - accuracy: 0.9954 - val_loss: 0.0072 - val_accuracy: 0.9990\n",
      "Epoch 20/50\n",
      "50/50 [==============================] - 0s 8ms/step - loss: 0.0165 - accuracy: 0.9952 - val_loss: 0.0059 - val_accuracy: 0.9995\n",
      "Epoch 21/50\n",
      "50/50 [==============================] - 0s 8ms/step - loss: 0.0135 - accuracy: 0.9967 - val_loss: 0.0050 - val_accuracy: 0.9995\n",
      "Epoch 22/50\n",
      "50/50 [==============================] - 0s 7ms/step - loss: 0.0121 - accuracy: 0.9967 - val_loss: 0.0044 - val_accuracy: 0.9996\n",
      "Epoch 23/50\n",
      "50/50 [==============================] - 0s 8ms/step - loss: 0.0114 - accuracy: 0.9971 - val_loss: 0.0040 - val_accuracy: 0.9998\n",
      "Epoch 24/50\n",
      "50/50 [==============================] - 0s 7ms/step - loss: 0.0111 - accuracy: 0.9970 - val_loss: 0.0035 - val_accuracy: 0.9999\n",
      "Epoch 25/50\n",
      "50/50 [==============================] - 0s 7ms/step - loss: 0.0091 - accuracy: 0.9980 - val_loss: 0.0032 - val_accuracy: 0.9999\n",
      "Epoch 26/50\n",
      "50/50 [==============================] - 0s 7ms/step - loss: 0.0090 - accuracy: 0.9979 - val_loss: 0.0034 - val_accuracy: 0.9995\n",
      "Epoch 27/50\n",
      "50/50 [==============================] - 0s 7ms/step - loss: 0.0074 - accuracy: 0.9981 - val_loss: 0.0022 - val_accuracy: 0.9999\n",
      "Epoch 28/50\n",
      "50/50 [==============================] - 0s 7ms/step - loss: 0.0070 - accuracy: 0.9988 - val_loss: 0.0022 - val_accuracy: 0.9999\n",
      "Epoch 29/50\n",
      "50/50 [==============================] - 0s 7ms/step - loss: 0.0070 - accuracy: 0.9986 - val_loss: 0.0021 - val_accuracy: 0.9999\n",
      "Epoch 30/50\n",
      "50/50 [==============================] - 0s 7ms/step - loss: 0.0063 - accuracy: 0.9987 - val_loss: 0.0018 - val_accuracy: 0.9999\n",
      "Epoch 31/50\n",
      "50/50 [==============================] - 0s 7ms/step - loss: 0.0061 - accuracy: 0.9986 - val_loss: 0.0018 - val_accuracy: 1.0000\n",
      "Epoch 32/50\n",
      "50/50 [==============================] - 0s 7ms/step - loss: 0.0054 - accuracy: 0.9987 - val_loss: 0.0014 - val_accuracy: 0.9999\n",
      "Epoch 33/50\n",
      "50/50 [==============================] - 0s 7ms/step - loss: 0.0059 - accuracy: 0.9985 - val_loss: 0.0013 - val_accuracy: 0.9999\n",
      "Epoch 34/50\n",
      "50/50 [==============================] - 0s 7ms/step - loss: 0.0054 - accuracy: 0.9988 - val_loss: 0.0015 - val_accuracy: 0.9999\n",
      "Epoch 35/50\n",
      "50/50 [==============================] - 0s 7ms/step - loss: 0.0047 - accuracy: 0.9990 - val_loss: 0.0014 - val_accuracy: 1.0000\n",
      "Epoch 36/50\n",
      "50/50 [==============================] - 0s 7ms/step - loss: 0.0052 - accuracy: 0.9987 - val_loss: 0.0011 - val_accuracy: 1.0000\n",
      "Epoch 37/50\n",
      "50/50 [==============================] - 0s 9ms/step - loss: 0.0054 - accuracy: 0.9986 - val_loss: 0.0013 - val_accuracy: 1.0000\n",
      "Epoch 38/50\n",
      "50/50 [==============================] - 0s 7ms/step - loss: 0.0052 - accuracy: 0.9988 - val_loss: 0.0014 - val_accuracy: 1.0000\n",
      "Epoch 39/50\n",
      "50/50 [==============================] - 0s 7ms/step - loss: 0.0044 - accuracy: 0.9990 - val_loss: 0.0011 - val_accuracy: 0.9999\n",
      "Epoch 40/50\n",
      "50/50 [==============================] - 0s 10ms/step - loss: 0.0044 - accuracy: 0.9990 - val_loss: 0.0010 - val_accuracy: 0.9999\n",
      "Epoch 41/50\n",
      "50/50 [==============================] - 0s 8ms/step - loss: 0.0034 - accuracy: 0.9995 - val_loss: 0.0012 - val_accuracy: 0.9999\n",
      "Epoch 42/50\n",
      "50/50 [==============================] - 0s 8ms/step - loss: 0.0044 - accuracy: 0.9988 - val_loss: 8.3094e-04 - val_accuracy: 1.0000\n",
      "Epoch 43/50\n",
      "50/50 [==============================] - 0s 8ms/step - loss: 0.0040 - accuracy: 0.9989 - val_loss: 8.0015e-04 - val_accuracy: 1.0000\n",
      "Epoch 44/50\n",
      "50/50 [==============================] - 0s 8ms/step - loss: 0.0034 - accuracy: 0.9992 - val_loss: 5.3308e-04 - val_accuracy: 1.0000\n",
      "Epoch 45/50\n",
      "50/50 [==============================] - 0s 8ms/step - loss: 0.0035 - accuracy: 0.9991 - val_loss: 7.4229e-04 - val_accuracy: 1.0000\n",
      "Epoch 46/50\n",
      "50/50 [==============================] - 0s 8ms/step - loss: 0.0036 - accuracy: 0.9993 - val_loss: 4.6557e-04 - val_accuracy: 1.0000\n",
      "Epoch 47/50\n",
      "50/50 [==============================] - 0s 7ms/step - loss: 0.0030 - accuracy: 0.9993 - val_loss: 5.3152e-04 - val_accuracy: 1.0000\n",
      "Epoch 48/50\n",
      "50/50 [==============================] - 0s 7ms/step - loss: 0.0024 - accuracy: 0.9995 - val_loss: 4.8345e-04 - val_accuracy: 1.0000\n",
      "Epoch 49/50\n",
      "50/50 [==============================] - 0s 7ms/step - loss: 0.0034 - accuracy: 0.9991 - val_loss: 4.5819e-04 - val_accuracy: 1.0000\n",
      "Epoch 50/50\n",
      "50/50 [==============================] - 0s 8ms/step - loss: 0.0032 - accuracy: 0.9994 - val_loss: 6.9362e-04 - val_accuracy: 1.0000\n"
     ]
    },
    {
     "data": {
      "text/plain": [
       "<keras.callbacks.History at 0x1ee16998c70>"
      ]
     },
     "execution_count": 10,
     "metadata": {},
     "output_type": "execute_result"
    }
   ],
   "source": [
    "# Training our model \r\n",
    "model_1.fit(x_train, y_train, batch_size=batch_size,epochs=n_epochs,validation_data=(x_val,y_val))\r\n",
    "#trains our model on x_train and y_train \r\n",
    "#trains it in batches of 1000\r\n",
    "#trains the model for 50 iterations/50 epochs \r\n",
    "#validates our model on x_val, y_val"
   ]
  },
  {
   "cell_type": "code",
   "execution_count": 11,
   "metadata": {},
   "outputs": [
    {
     "name": "stdout",
     "output_type": "stream",
     "text": [
      "1563/1563 [==============================] - 4s 2ms/step - loss: 8.9935e-04 - accuracy: 0.9999\n",
      "Training set accuracy is 99.990%\n"
     ]
    }
   ],
   "source": [
    "training_loss, training_accuracy = model_1.evaluate(x=x_train, y=y_train)\r\n",
    "print(f'Training set accuracy is {training_accuracy:.3%}')"
   ]
  },
  {
   "cell_type": "code",
   "execution_count": 12,
   "metadata": {},
   "outputs": [
    {
     "name": "stdout",
     "output_type": "stream",
     "text": [
      "313/313 [==============================] - 1s 3ms/step - loss: 6.9362e-04 - accuracy: 1.0000\n",
      "validation set accuracy is 100.000%\n"
     ]
    }
   ],
   "source": [
    "validation_loss, validation_accuracy = model_1.evaluate(x=x_val, y=y_val)\r\n",
    "print(f'validation set accuracy is {validation_accuracy:.3%}')"
   ]
  },
  {
   "cell_type": "code",
   "execution_count": 13,
   "metadata": {},
   "outputs": [
    {
     "name": "stdout",
     "output_type": "stream",
     "text": [
      "313/313 [==============================] - 1s 3ms/step - loss: 0.0749 - accuracy: 0.9823\n",
      "Testing set accuracy is 98.230%\n"
     ]
    }
   ],
   "source": [
    "test_loss, test_accuracy = model_1.evaluate(x_test, y_test)\r\n",
    "print(f'Testing set accuracy is {test_accuracy:.3%}')"
   ]
  },
  {
   "cell_type": "markdown",
   "metadata": {},
   "source": [
    "# Saving our model"
   ]
  },
  {
   "cell_type": "code",
   "execution_count": 14,
   "metadata": {},
   "outputs": [
    {
     "name": "stdout",
     "output_type": "stream",
     "text": [
      "INFO:tensorflow:Assets written to: mnist_with_keras\\assets\n"
     ]
    }
   ],
   "source": [
    "model_1.save('mnist_with_keras')"
   ]
  },
  {
   "cell_type": "markdown",
   "metadata": {},
   "source": [
    "# Performing predictions"
   ]
  },
  {
   "cell_type": "code",
   "execution_count": 15,
   "metadata": {},
   "outputs": [],
   "source": [
    "def predict_from_image(filepath):\r\n",
    "    img = Image.open(filepath)\r\n",
    "    img = img.resize((28,28))\r\n",
    "    bw = img.convert(mode='L')\r\n",
    "    img_array = np.invert(bw)\r\n",
    "    test_img = np.ravel(img_array)\r\n",
    "    test_img = np.expand_dims(test_img, axis=0)\r\n",
    "    prediction_test_img = model_1.predict(test_img)\r\n",
    "    return np.argmax(prediction_test_img, axis=-1)[0]"
   ]
  },
  {
   "cell_type": "code",
   "execution_count": 16,
   "metadata": {},
   "outputs": [
    {
     "name": "stdout",
     "output_type": "stream",
     "text": [
      "The prediction of our model is 0\n",
      "The prediction of our model is 1\n",
      "The prediction of our model is 2\n",
      "The prediction of our model is 3\n",
      "The prediction of our model is 4\n",
      "The prediction of our model is 5\n",
      "The prediction of our model is 5\n",
      "The prediction of our model is 7\n",
      "The prediction of our model is 8\n",
      "The prediction of our model is 9\n",
      "The prediction of our model is 2\n",
      "The prediction of our model is 4\n",
      "The prediction of our model is 6\n"
     ]
    }
   ],
   "source": [
    "files = os.listdir('test_handwriting')\r\n",
    "for filename in files:\r\n",
    "    name = f'test_handwriting/{filename}'\r\n",
    "    print(f'The prediction of our model is {predict_from_image(name)}')"
   ]
  },
  {
   "cell_type": "code",
   "execution_count": 17,
   "metadata": {},
   "outputs": [],
   "source": [
    "y_pred = np.argmax(model_1.predict(x_test), axis=-1)"
   ]
  },
  {
   "cell_type": "code",
   "execution_count": 18,
   "metadata": {},
   "outputs": [],
   "source": [
    "conf_matrix = confusion_matrix(y_true=y_test, y_pred=y_pred)"
   ]
  },
  {
   "cell_type": "code",
   "execution_count": 19,
   "metadata": {},
   "outputs": [
    {
     "data": {
      "text/html": [
       "<div>\n",
       "<style scoped>\n",
       "    .dataframe tbody tr th:only-of-type {\n",
       "        vertical-align: middle;\n",
       "    }\n",
       "\n",
       "    .dataframe tbody tr th {\n",
       "        vertical-align: top;\n",
       "    }\n",
       "\n",
       "    .dataframe thead th {\n",
       "        text-align: right;\n",
       "    }\n",
       "</style>\n",
       "<table border=\"1\" class=\"dataframe\">\n",
       "  <thead>\n",
       "    <tr style=\"text-align: right;\">\n",
       "      <th></th>\n",
       "      <th>0</th>\n",
       "      <th>1</th>\n",
       "      <th>2</th>\n",
       "      <th>3</th>\n",
       "      <th>4</th>\n",
       "      <th>5</th>\n",
       "      <th>6</th>\n",
       "      <th>7</th>\n",
       "      <th>8</th>\n",
       "      <th>9</th>\n",
       "    </tr>\n",
       "  </thead>\n",
       "  <tbody>\n",
       "    <tr>\n",
       "      <th>0</th>\n",
       "      <td>969</td>\n",
       "      <td>1</td>\n",
       "      <td>2</td>\n",
       "      <td>0</td>\n",
       "      <td>1</td>\n",
       "      <td>1</td>\n",
       "      <td>1</td>\n",
       "      <td>2</td>\n",
       "      <td>1</td>\n",
       "      <td>2</td>\n",
       "    </tr>\n",
       "    <tr>\n",
       "      <th>1</th>\n",
       "      <td>0</td>\n",
       "      <td>1127</td>\n",
       "      <td>3</td>\n",
       "      <td>0</td>\n",
       "      <td>0</td>\n",
       "      <td>1</td>\n",
       "      <td>2</td>\n",
       "      <td>1</td>\n",
       "      <td>1</td>\n",
       "      <td>0</td>\n",
       "    </tr>\n",
       "    <tr>\n",
       "      <th>2</th>\n",
       "      <td>3</td>\n",
       "      <td>1</td>\n",
       "      <td>1012</td>\n",
       "      <td>2</td>\n",
       "      <td>1</td>\n",
       "      <td>0</td>\n",
       "      <td>2</td>\n",
       "      <td>8</td>\n",
       "      <td>3</td>\n",
       "      <td>0</td>\n",
       "    </tr>\n",
       "    <tr>\n",
       "      <th>3</th>\n",
       "      <td>0</td>\n",
       "      <td>0</td>\n",
       "      <td>2</td>\n",
       "      <td>985</td>\n",
       "      <td>0</td>\n",
       "      <td>5</td>\n",
       "      <td>0</td>\n",
       "      <td>7</td>\n",
       "      <td>4</td>\n",
       "      <td>7</td>\n",
       "    </tr>\n",
       "    <tr>\n",
       "      <th>4</th>\n",
       "      <td>2</td>\n",
       "      <td>0</td>\n",
       "      <td>1</td>\n",
       "      <td>1</td>\n",
       "      <td>961</td>\n",
       "      <td>0</td>\n",
       "      <td>3</td>\n",
       "      <td>2</td>\n",
       "      <td>0</td>\n",
       "      <td>12</td>\n",
       "    </tr>\n",
       "    <tr>\n",
       "      <th>5</th>\n",
       "      <td>2</td>\n",
       "      <td>0</td>\n",
       "      <td>0</td>\n",
       "      <td>4</td>\n",
       "      <td>1</td>\n",
       "      <td>878</td>\n",
       "      <td>2</td>\n",
       "      <td>1</td>\n",
       "      <td>2</td>\n",
       "      <td>2</td>\n",
       "    </tr>\n",
       "    <tr>\n",
       "      <th>6</th>\n",
       "      <td>5</td>\n",
       "      <td>2</td>\n",
       "      <td>0</td>\n",
       "      <td>0</td>\n",
       "      <td>2</td>\n",
       "      <td>8</td>\n",
       "      <td>940</td>\n",
       "      <td>0</td>\n",
       "      <td>1</td>\n",
       "      <td>0</td>\n",
       "    </tr>\n",
       "    <tr>\n",
       "      <th>7</th>\n",
       "      <td>1</td>\n",
       "      <td>4</td>\n",
       "      <td>6</td>\n",
       "      <td>1</td>\n",
       "      <td>0</td>\n",
       "      <td>0</td>\n",
       "      <td>0</td>\n",
       "      <td>1009</td>\n",
       "      <td>1</td>\n",
       "      <td>6</td>\n",
       "    </tr>\n",
       "    <tr>\n",
       "      <th>8</th>\n",
       "      <td>1</td>\n",
       "      <td>2</td>\n",
       "      <td>2</td>\n",
       "      <td>2</td>\n",
       "      <td>4</td>\n",
       "      <td>2</td>\n",
       "      <td>3</td>\n",
       "      <td>4</td>\n",
       "      <td>950</td>\n",
       "      <td>4</td>\n",
       "    </tr>\n",
       "    <tr>\n",
       "      <th>9</th>\n",
       "      <td>0</td>\n",
       "      <td>3</td>\n",
       "      <td>0</td>\n",
       "      <td>2</td>\n",
       "      <td>4</td>\n",
       "      <td>1</td>\n",
       "      <td>0</td>\n",
       "      <td>5</td>\n",
       "      <td>2</td>\n",
       "      <td>992</td>\n",
       "    </tr>\n",
       "  </tbody>\n",
       "</table>\n",
       "</div>"
      ],
      "text/plain": [
       "     0     1     2    3    4    5    6     7    8    9\n",
       "0  969     1     2    0    1    1    1     2    1    2\n",
       "1    0  1127     3    0    0    1    2     1    1    0\n",
       "2    3     1  1012    2    1    0    2     8    3    0\n",
       "3    0     0     2  985    0    5    0     7    4    7\n",
       "4    2     0     1    1  961    0    3     2    0   12\n",
       "5    2     0     0    4    1  878    2     1    2    2\n",
       "6    5     2     0    0    2    8  940     0    1    0\n",
       "7    1     4     6    1    0    0    0  1009    1    6\n",
       "8    1     2     2    2    4    2    3     4  950    4\n",
       "9    0     3     0    2    4    1    0     5    2  992"
      ]
     },
     "metadata": {},
     "output_type": "display_data"
    }
   ],
   "source": [
    "conf_df = pd.DataFrame(conf_matrix)\r\n",
    "display(conf_df)"
   ]
  },
  {
   "cell_type": "code",
   "execution_count": 20,
   "metadata": {},
   "outputs": [
    {
     "data": {
      "image/png": "[encoded data removed]",
      "text/plain": [
       "<Figure size 720x720 with 2 Axes>"
      ]
     },
     "metadata": {
      "needs_background": "light"
     },
     "output_type": "display_data"
    }
   ],
   "source": [
    "fig, ax = plt.subplots(figsize=(10,10))\r\n",
    "sns.heatmap(conf_df,ax=ax,annot=True,cmap='coolwarm')\r\n",
    "plt.show()"
   ]
  }
 ],
 "metadata": {
  "interpreter": {
   "hash": "44d975d770f37f07d5939388c4dbb6ff4bc1df183a6a79e875df6871eed9264b"
  },
  "kernelspec": {
   "display_name": "Python 3.8.3 64-bit",
   "name": "python3"
  },
  "language_info": {
   "codemirror_mode": {
    "name": "ipython",
    "version": 3
   },
   "file_extension": ".py",
   "mimetype": "text/x-python",
   "name": "python",
   "nbconvert_exporter": "python",
   "pygments_lexer": "ipython3",
   "version": "3.8.3"
  },
  "orig_nbformat": 4
 },
 "nbformat": 4,
 "nbformat_minor": 2
}